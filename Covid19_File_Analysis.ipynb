{
 "cells": [
  {
   "cell_type": "code",
   "execution_count": 2,
   "metadata": {},
   "outputs": [],
   "source": [
    "import pandas as pd\n",
    "import numpy as np\n",
    "import matplotlib.pyplot as plt"
   ]
  },
  {
   "cell_type": "code",
   "execution_count": 3,
   "metadata": {},
   "outputs": [
    {
     "data": {
      "text/html": [
       "<div>\n",
       "<style scoped>\n",
       "    .dataframe tbody tr th:only-of-type {\n",
       "        vertical-align: middle;\n",
       "    }\n",
       "\n",
       "    .dataframe tbody tr th {\n",
       "        vertical-align: top;\n",
       "    }\n",
       "\n",
       "    .dataframe thead th {\n",
       "        text-align: right;\n",
       "    }\n",
       "</style>\n",
       "<table border=\"1\" class=\"dataframe\">\n",
       "  <thead>\n",
       "    <tr style=\"text-align: right;\">\n",
       "      <th></th>\n",
       "      <th>Unnamed: 0</th>\n",
       "      <th>Num Cases</th>\n",
       "      <th>Date Announced</th>\n",
       "      <th>Age Bracket</th>\n",
       "      <th>Gender</th>\n",
       "      <th>Detected City</th>\n",
       "      <th>Detected District</th>\n",
       "      <th>Detected State</th>\n",
       "      <th>Day</th>\n",
       "      <th>Month</th>\n",
       "      <th>Year</th>\n",
       "      <th>Current Status</th>\n",
       "    </tr>\n",
       "  </thead>\n",
       "  <tbody>\n",
       "    <tr>\n",
       "      <th>0</th>\n",
       "      <td>0</td>\n",
       "      <td>1.0</td>\n",
       "      <td>30/01/2020</td>\n",
       "      <td>20</td>\n",
       "      <td>F</td>\n",
       "      <td>Thrissur</td>\n",
       "      <td>Thrissur</td>\n",
       "      <td>Kerala</td>\n",
       "      <td>30.0</td>\n",
       "      <td>1.0</td>\n",
       "      <td>2020.0</td>\n",
       "      <td>Recovered</td>\n",
       "    </tr>\n",
       "    <tr>\n",
       "      <th>1</th>\n",
       "      <td>1</td>\n",
       "      <td>1.0</td>\n",
       "      <td>02/02/2020</td>\n",
       "      <td>NaN</td>\n",
       "      <td>NaN</td>\n",
       "      <td>Alappuzha</td>\n",
       "      <td>Alappuzha</td>\n",
       "      <td>Kerala</td>\n",
       "      <td>2.0</td>\n",
       "      <td>2.0</td>\n",
       "      <td>2020.0</td>\n",
       "      <td>Recovered</td>\n",
       "    </tr>\n",
       "    <tr>\n",
       "      <th>2</th>\n",
       "      <td>2</td>\n",
       "      <td>1.0</td>\n",
       "      <td>03/02/2020</td>\n",
       "      <td>NaN</td>\n",
       "      <td>NaN</td>\n",
       "      <td>Kasaragod</td>\n",
       "      <td>Kasaragod</td>\n",
       "      <td>Kerala</td>\n",
       "      <td>3.0</td>\n",
       "      <td>2.0</td>\n",
       "      <td>2020.0</td>\n",
       "      <td>Recovered</td>\n",
       "    </tr>\n",
       "    <tr>\n",
       "      <th>3</th>\n",
       "      <td>3</td>\n",
       "      <td>1.0</td>\n",
       "      <td>02/03/2020</td>\n",
       "      <td>45</td>\n",
       "      <td>M</td>\n",
       "      <td>East Delhi (Mayur Vihar)</td>\n",
       "      <td>East Delhi</td>\n",
       "      <td>Delhi</td>\n",
       "      <td>2.0</td>\n",
       "      <td>3.0</td>\n",
       "      <td>2020.0</td>\n",
       "      <td>Recovered</td>\n",
       "    </tr>\n",
       "    <tr>\n",
       "      <th>4</th>\n",
       "      <td>4</td>\n",
       "      <td>1.0</td>\n",
       "      <td>02/03/2020</td>\n",
       "      <td>24</td>\n",
       "      <td>M</td>\n",
       "      <td>Hyderabad</td>\n",
       "      <td>Hyderabad</td>\n",
       "      <td>Telangana</td>\n",
       "      <td>2.0</td>\n",
       "      <td>3.0</td>\n",
       "      <td>2020.0</td>\n",
       "      <td>Recovered</td>\n",
       "    </tr>\n",
       "  </tbody>\n",
       "</table>\n",
       "</div>"
      ],
      "text/plain": [
       "   Unnamed: 0  Num Cases Date Announced Age Bracket Gender  \\\n",
       "0           0        1.0     30/01/2020          20      F   \n",
       "1           1        1.0     02/02/2020         NaN    NaN   \n",
       "2           2        1.0     03/02/2020         NaN    NaN   \n",
       "3           3        1.0     02/03/2020          45      M   \n",
       "4           4        1.0     02/03/2020          24      M   \n",
       "\n",
       "              Detected City Detected District Detected State   Day  Month  \\\n",
       "0                  Thrissur          Thrissur         Kerala  30.0    1.0   \n",
       "1                 Alappuzha         Alappuzha         Kerala   2.0    2.0   \n",
       "2                 Kasaragod         Kasaragod         Kerala   3.0    2.0   \n",
       "3  East Delhi (Mayur Vihar)        East Delhi          Delhi   2.0    3.0   \n",
       "4                 Hyderabad         Hyderabad      Telangana   2.0    3.0   \n",
       "\n",
       "     Year Current Status  \n",
       "0  2020.0      Recovered  \n",
       "1  2020.0      Recovered  \n",
       "2  2020.0      Recovered  \n",
       "3  2020.0      Recovered  \n",
       "4  2020.0      Recovered  "
      ]
     },
     "execution_count": 3,
     "metadata": {},
     "output_type": "execute_result"
    }
   ],
   "source": [
    "df = pd.read_csv('Covid19India.csv')\n",
    "df.head()"
   ]
  },
  {
   "cell_type": "code",
   "execution_count": 4,
   "metadata": {},
   "outputs": [
    {
     "data": {
      "text/html": [
       "<div>\n",
       "<style scoped>\n",
       "    .dataframe tbody tr th:only-of-type {\n",
       "        vertical-align: middle;\n",
       "    }\n",
       "\n",
       "    .dataframe tbody tr th {\n",
       "        vertical-align: top;\n",
       "    }\n",
       "\n",
       "    .dataframe thead th {\n",
       "        text-align: right;\n",
       "    }\n",
       "</style>\n",
       "<table border=\"1\" class=\"dataframe\">\n",
       "  <thead>\n",
       "    <tr style=\"text-align: right;\">\n",
       "      <th></th>\n",
       "      <th>Num Cases</th>\n",
       "      <th>Date Announced</th>\n",
       "      <th>Age Bracket</th>\n",
       "      <th>Gender</th>\n",
       "      <th>Detected City</th>\n",
       "      <th>Detected District</th>\n",
       "      <th>Detected State</th>\n",
       "      <th>Day</th>\n",
       "      <th>Month</th>\n",
       "      <th>Year</th>\n",
       "      <th>Current Status</th>\n",
       "    </tr>\n",
       "  </thead>\n",
       "  <tbody>\n",
       "    <tr>\n",
       "      <th>0</th>\n",
       "      <td>1.0</td>\n",
       "      <td>30/01/2020</td>\n",
       "      <td>20</td>\n",
       "      <td>F</td>\n",
       "      <td>Thrissur</td>\n",
       "      <td>Thrissur</td>\n",
       "      <td>Kerala</td>\n",
       "      <td>30.0</td>\n",
       "      <td>1.0</td>\n",
       "      <td>2020.0</td>\n",
       "      <td>Recovered</td>\n",
       "    </tr>\n",
       "    <tr>\n",
       "      <th>1</th>\n",
       "      <td>1.0</td>\n",
       "      <td>02/02/2020</td>\n",
       "      <td>NaN</td>\n",
       "      <td>NaN</td>\n",
       "      <td>Alappuzha</td>\n",
       "      <td>Alappuzha</td>\n",
       "      <td>Kerala</td>\n",
       "      <td>2.0</td>\n",
       "      <td>2.0</td>\n",
       "      <td>2020.0</td>\n",
       "      <td>Recovered</td>\n",
       "    </tr>\n",
       "    <tr>\n",
       "      <th>2</th>\n",
       "      <td>1.0</td>\n",
       "      <td>03/02/2020</td>\n",
       "      <td>NaN</td>\n",
       "      <td>NaN</td>\n",
       "      <td>Kasaragod</td>\n",
       "      <td>Kasaragod</td>\n",
       "      <td>Kerala</td>\n",
       "      <td>3.0</td>\n",
       "      <td>2.0</td>\n",
       "      <td>2020.0</td>\n",
       "      <td>Recovered</td>\n",
       "    </tr>\n",
       "    <tr>\n",
       "      <th>3</th>\n",
       "      <td>1.0</td>\n",
       "      <td>02/03/2020</td>\n",
       "      <td>45</td>\n",
       "      <td>M</td>\n",
       "      <td>East Delhi (Mayur Vihar)</td>\n",
       "      <td>East Delhi</td>\n",
       "      <td>Delhi</td>\n",
       "      <td>2.0</td>\n",
       "      <td>3.0</td>\n",
       "      <td>2020.0</td>\n",
       "      <td>Recovered</td>\n",
       "    </tr>\n",
       "    <tr>\n",
       "      <th>4</th>\n",
       "      <td>1.0</td>\n",
       "      <td>02/03/2020</td>\n",
       "      <td>24</td>\n",
       "      <td>M</td>\n",
       "      <td>Hyderabad</td>\n",
       "      <td>Hyderabad</td>\n",
       "      <td>Telangana</td>\n",
       "      <td>2.0</td>\n",
       "      <td>3.0</td>\n",
       "      <td>2020.0</td>\n",
       "      <td>Recovered</td>\n",
       "    </tr>\n",
       "  </tbody>\n",
       "</table>\n",
       "</div>"
      ],
      "text/plain": [
       "   Num Cases Date Announced Age Bracket Gender             Detected City  \\\n",
       "0        1.0     30/01/2020          20      F                  Thrissur   \n",
       "1        1.0     02/02/2020         NaN    NaN                 Alappuzha   \n",
       "2        1.0     03/02/2020         NaN    NaN                 Kasaragod   \n",
       "3        1.0     02/03/2020          45      M  East Delhi (Mayur Vihar)   \n",
       "4        1.0     02/03/2020          24      M                 Hyderabad   \n",
       "\n",
       "  Detected District Detected State   Day  Month    Year Current Status  \n",
       "0          Thrissur         Kerala  30.0    1.0  2020.0      Recovered  \n",
       "1         Alappuzha         Kerala   2.0    2.0  2020.0      Recovered  \n",
       "2         Kasaragod         Kerala   3.0    2.0  2020.0      Recovered  \n",
       "3        East Delhi          Delhi   2.0    3.0  2020.0      Recovered  \n",
       "4         Hyderabad      Telangana   2.0    3.0  2020.0      Recovered  "
      ]
     },
     "execution_count": 4,
     "metadata": {},
     "output_type": "execute_result"
    }
   ],
   "source": [
    "data= df.iloc[ :, 1:]\n",
    "data.head()"
   ]
  },
  {
   "cell_type": "code",
   "execution_count": 5,
   "metadata": {},
   "outputs": [
    {
     "name": "stdout",
     "output_type": "stream",
     "text": [
      "<class 'pandas.core.frame.DataFrame'>\n",
      "RangeIndex: 271480 entries, 0 to 271479\n",
      "Data columns (total 11 columns):\n",
      "Num Cases            271475 non-null float64\n",
      "Date Announced       271478 non-null object\n",
      "Age Bracket          111217 non-null object\n",
      "Gender               113915 non-null object\n",
      "Detected City        13203 non-null object\n",
      "Detected District    262033 non-null object\n",
      "Detected State       271469 non-null object\n",
      "Day                  271478 non-null float64\n",
      "Month                271478 non-null float64\n",
      "Year                 271478 non-null float64\n",
      "Current Status       271476 non-null object\n",
      "dtypes: float64(4), object(7)\n",
      "memory usage: 22.8+ MB\n"
     ]
    }
   ],
   "source": [
    "data.info()"
   ]
  },
  {
   "cell_type": "code",
   "execution_count": 6,
   "metadata": {},
   "outputs": [
    {
     "data": {
      "text/html": [
       "<div>\n",
       "<style scoped>\n",
       "    .dataframe tbody tr th:only-of-type {\n",
       "        vertical-align: middle;\n",
       "    }\n",
       "\n",
       "    .dataframe tbody tr th {\n",
       "        vertical-align: top;\n",
       "    }\n",
       "\n",
       "    .dataframe thead th {\n",
       "        text-align: right;\n",
       "    }\n",
       "</style>\n",
       "<table border=\"1\" class=\"dataframe\">\n",
       "  <thead>\n",
       "    <tr style=\"text-align: right;\">\n",
       "      <th></th>\n",
       "      <th>Num Cases</th>\n",
       "      <th>Date Announced</th>\n",
       "      <th>Age Bracket</th>\n",
       "      <th>Gender</th>\n",
       "      <th>Detected City</th>\n",
       "      <th>Detected District</th>\n",
       "      <th>Detected State</th>\n",
       "      <th>Day</th>\n",
       "      <th>Month</th>\n",
       "      <th>Year</th>\n",
       "      <th>Current Status</th>\n",
       "    </tr>\n",
       "  </thead>\n",
       "  <tbody>\n",
       "    <tr>\n",
       "      <th>0</th>\n",
       "      <td>1.0</td>\n",
       "      <td>30/01/2020</td>\n",
       "      <td>20</td>\n",
       "      <td>F</td>\n",
       "      <td>Thrissur</td>\n",
       "      <td>Thrissur</td>\n",
       "      <td>Kerala</td>\n",
       "      <td>30.0</td>\n",
       "      <td>1.0</td>\n",
       "      <td>2020.0</td>\n",
       "      <td>Recovered</td>\n",
       "    </tr>\n",
       "    <tr>\n",
       "      <th>1</th>\n",
       "      <td>1.0</td>\n",
       "      <td>02/02/2020</td>\n",
       "      <td>NaN</td>\n",
       "      <td>NaN</td>\n",
       "      <td>Alappuzha</td>\n",
       "      <td>Alappuzha</td>\n",
       "      <td>Kerala</td>\n",
       "      <td>2.0</td>\n",
       "      <td>2.0</td>\n",
       "      <td>2020.0</td>\n",
       "      <td>Recovered</td>\n",
       "    </tr>\n",
       "    <tr>\n",
       "      <th>2</th>\n",
       "      <td>1.0</td>\n",
       "      <td>03/02/2020</td>\n",
       "      <td>NaN</td>\n",
       "      <td>NaN</td>\n",
       "      <td>Kasaragod</td>\n",
       "      <td>Kasaragod</td>\n",
       "      <td>Kerala</td>\n",
       "      <td>3.0</td>\n",
       "      <td>2.0</td>\n",
       "      <td>2020.0</td>\n",
       "      <td>Recovered</td>\n",
       "    </tr>\n",
       "    <tr>\n",
       "      <th>3</th>\n",
       "      <td>1.0</td>\n",
       "      <td>02/03/2020</td>\n",
       "      <td>45</td>\n",
       "      <td>M</td>\n",
       "      <td>East Delhi (Mayur Vihar)</td>\n",
       "      <td>East Delhi</td>\n",
       "      <td>Delhi</td>\n",
       "      <td>2.0</td>\n",
       "      <td>3.0</td>\n",
       "      <td>2020.0</td>\n",
       "      <td>Recovered</td>\n",
       "    </tr>\n",
       "    <tr>\n",
       "      <th>4</th>\n",
       "      <td>1.0</td>\n",
       "      <td>02/03/2020</td>\n",
       "      <td>24</td>\n",
       "      <td>M</td>\n",
       "      <td>Hyderabad</td>\n",
       "      <td>Hyderabad</td>\n",
       "      <td>Telangana</td>\n",
       "      <td>2.0</td>\n",
       "      <td>3.0</td>\n",
       "      <td>2020.0</td>\n",
       "      <td>Recovered</td>\n",
       "    </tr>\n",
       "  </tbody>\n",
       "</table>\n",
       "</div>"
      ],
      "text/plain": [
       "   Num Cases Date Announced Age Bracket Gender             Detected City  \\\n",
       "0        1.0     30/01/2020          20      F                  Thrissur   \n",
       "1        1.0     02/02/2020         NaN    NaN                 Alappuzha   \n",
       "2        1.0     03/02/2020         NaN    NaN                 Kasaragod   \n",
       "3        1.0     02/03/2020          45      M  East Delhi (Mayur Vihar)   \n",
       "4        1.0     02/03/2020          24      M                 Hyderabad   \n",
       "\n",
       "  Detected District Detected State   Day  Month    Year Current Status  \n",
       "0          Thrissur         Kerala  30.0    1.0  2020.0      Recovered  \n",
       "1         Alappuzha         Kerala   2.0    2.0  2020.0      Recovered  \n",
       "2         Kasaragod         Kerala   3.0    2.0  2020.0      Recovered  \n",
       "3        East Delhi          Delhi   2.0    3.0  2020.0      Recovered  \n",
       "4         Hyderabad      Telangana   2.0    3.0  2020.0      Recovered  "
      ]
     },
     "execution_count": 6,
     "metadata": {},
     "output_type": "execute_result"
    }
   ],
   "source": [
    "data.head()"
   ]
  },
  {
   "cell_type": "code",
   "execution_count": 7,
   "metadata": {},
   "outputs": [
    {
     "data": {
      "text/plain": [
       "Date Announced            2\n",
       "Day                       2\n",
       "Month                     2\n",
       "Year                      2\n",
       "Current Status            4\n",
       "Num Cases                 5\n",
       "Detected State           11\n",
       "Detected District      9447\n",
       "Gender               157565\n",
       "Age Bracket          160263\n",
       "Detected City        258277\n",
       "dtype: int64"
      ]
     },
     "execution_count": 7,
     "metadata": {},
     "output_type": "execute_result"
    }
   ],
   "source": [
    "#Inspect null values in each columns by ascending order\n",
    "data.isnull().sum().sort_values()"
   ]
  },
  {
   "cell_type": "code",
   "execution_count": 8,
   "metadata": {},
   "outputs": [
    {
     "data": {
      "text/plain": [
       "Detected City        258277\n",
       "Age Bracket          160263\n",
       "Gender               157565\n",
       "Detected District      9447\n",
       "Detected State           11\n",
       "Num Cases                 5\n",
       "Current Status            4\n",
       "Year                      2\n",
       "Month                     2\n",
       "Day                       2\n",
       "Date Announced            2\n",
       "dtype: int64"
      ]
     },
     "execution_count": 8,
     "metadata": {},
     "output_type": "execute_result"
    }
   ],
   "source": [
    "#Inspect null values in each columns by decending order\n",
    "data.isnull().sum().sort_values(ascending=False)"
   ]
  },
  {
   "cell_type": "code",
   "execution_count": 9,
   "metadata": {},
   "outputs": [
    {
     "data": {
      "text/plain": [
       "Detected City        95.136658\n",
       "Age Bracket          59.033078\n",
       "Gender               58.039266\n",
       "Detected District     3.479814\n",
       "Detected State        0.004052\n",
       "Num Cases             0.001842\n",
       "Current Status        0.001473\n",
       "Year                  0.000737\n",
       "Month                 0.000737\n",
       "Day                   0.000737\n",
       "Date Announced        0.000737\n",
       "dtype: float64"
      ]
     },
     "execution_count": 9,
     "metadata": {},
     "output_type": "execute_result"
    }
   ],
   "source": [
    "#To Count Percentage Value\n",
    "data.isnull().sum().sort_values(ascending=False)/len(data)*100"
   ]
  },
  {
   "cell_type": "code",
   "execution_count": 10,
   "metadata": {},
   "outputs": [
    {
     "data": {
      "text/plain": [
       "Detected City        95.14\n",
       "Age Bracket          59.03\n",
       "Gender               58.04\n",
       "Detected District     3.48\n",
       "Detected State        0.00\n",
       "Num Cases             0.00\n",
       "Current Status        0.00\n",
       "Year                  0.00\n",
       "Month                 0.00\n",
       "Day                   0.00\n",
       "Date Announced        0.00\n",
       "dtype: float64"
      ]
     },
     "execution_count": 10,
     "metadata": {},
     "output_type": "execute_result"
    }
   ],
   "source": [
    "#To Count Percentage Value\n",
    "val = data.isnull().sum().sort_values(ascending=False)/len(data)*100\n",
    "round(val, 2)"
   ]
  },
  {
   "cell_type": "code",
   "execution_count": 11,
   "metadata": {},
   "outputs": [
    {
     "data": {
      "text/plain": [
       "271479    11\n",
       "224898    11\n",
       "69008      6\n",
       "69009      6\n",
       "28451      6\n",
       "28968      5\n",
       "28398      5\n",
       "28834      5\n",
       "4375       5\n",
       "26120      4\n",
       "60973      4\n",
       "26122      4\n",
       "26118      4\n",
       "60972      4\n",
       "33974      4\n",
       "33971      4\n",
       "258004     4\n",
       "26119      4\n",
       "230187     4\n",
       "26121      4\n",
       "258005     4\n",
       "258006     4\n",
       "26117      4\n",
       "26115      4\n",
       "26116      4\n",
       "26105      4\n",
       "163401     4\n",
       "163400     4\n",
       "163399     4\n",
       "26101      4\n",
       "          ..\n",
       "120646     0\n",
       "120656     0\n",
       "120645     0\n",
       "120644     0\n",
       "120643     0\n",
       "120642     0\n",
       "120641     0\n",
       "120640     0\n",
       "120639     0\n",
       "120655     0\n",
       "120657     0\n",
       "120675     0\n",
       "120667     0\n",
       "120674     0\n",
       "120673     0\n",
       "120672     0\n",
       "120671     0\n",
       "120670     0\n",
       "120669     0\n",
       "120668     0\n",
       "120666     0\n",
       "120658     0\n",
       "120665     0\n",
       "120664     0\n",
       "120663     0\n",
       "120662     0\n",
       "120661     0\n",
       "120660     0\n",
       "120659     0\n",
       "0          0\n",
       "Length: 271480, dtype: int64"
      ]
     },
     "execution_count": 11,
     "metadata": {},
     "output_type": "execute_result"
    }
   ],
   "source": [
    "#Inspect null values in each Row\n",
    "\n",
    "data.isnull().sum(axis=1).sort_values(ascending=False)"
   ]
  },
  {
   "cell_type": "code",
   "execution_count": 12,
   "metadata": {},
   "outputs": [
    {
     "data": {
      "text/plain": [
       "Month\n",
       "1.0          1.0\n",
       "2.0          2.0\n",
       "3.0       1635.0\n",
       "4.0      36078.0\n",
       "5.0     242853.0\n",
       "6.0     663178.0\n",
       "7.0    1878472.0\n",
       "8.0    2421060.0\n",
       "Name: Num Cases, dtype: float64"
      ]
     },
     "execution_count": 12,
     "metadata": {},
     "output_type": "execute_result"
    }
   ],
   "source": [
    "#Total Data Month Wise\n",
    "data.groupby('Month')['Num Cases'].sum()"
   ]
  },
  {
   "cell_type": "code",
   "execution_count": 13,
   "metadata": {},
   "outputs": [
    {
     "data": {
      "text/html": [
       "<div>\n",
       "<style scoped>\n",
       "    .dataframe tbody tr th:only-of-type {\n",
       "        vertical-align: middle;\n",
       "    }\n",
       "\n",
       "    .dataframe tbody tr th {\n",
       "        vertical-align: top;\n",
       "    }\n",
       "\n",
       "    .dataframe thead th {\n",
       "        text-align: right;\n",
       "    }\n",
       "</style>\n",
       "<table border=\"1\" class=\"dataframe\">\n",
       "  <thead>\n",
       "    <tr style=\"text-align: right;\">\n",
       "      <th></th>\n",
       "      <th>Num Cases</th>\n",
       "      <th>Date Announced</th>\n",
       "      <th>Age Bracket</th>\n",
       "      <th>Gender</th>\n",
       "      <th>Detected City</th>\n",
       "      <th>Detected District</th>\n",
       "      <th>Detected State</th>\n",
       "      <th>Day</th>\n",
       "      <th>Month</th>\n",
       "      <th>Year</th>\n",
       "      <th>Current Status</th>\n",
       "    </tr>\n",
       "  </thead>\n",
       "  <tbody>\n",
       "    <tr>\n",
       "      <th>18</th>\n",
       "      <td>1.0</td>\n",
       "      <td>04/03/2020</td>\n",
       "      <td>55</td>\n",
       "      <td>NaN</td>\n",
       "      <td>Gurugram</td>\n",
       "      <td>Italians</td>\n",
       "      <td>Haryana</td>\n",
       "      <td>4.0</td>\n",
       "      <td>3.0</td>\n",
       "      <td>2020.0</td>\n",
       "      <td>Hospitalized</td>\n",
       "    </tr>\n",
       "    <tr>\n",
       "      <th>19</th>\n",
       "      <td>1.0</td>\n",
       "      <td>04/03/2020</td>\n",
       "      <td>55</td>\n",
       "      <td>NaN</td>\n",
       "      <td>Gurugram</td>\n",
       "      <td>Italians</td>\n",
       "      <td>Haryana</td>\n",
       "      <td>4.0</td>\n",
       "      <td>3.0</td>\n",
       "      <td>2020.0</td>\n",
       "      <td>Hospitalized</td>\n",
       "    </tr>\n",
       "    <tr>\n",
       "      <th>21</th>\n",
       "      <td>1.0</td>\n",
       "      <td>04/03/2020</td>\n",
       "      <td>NaN</td>\n",
       "      <td>M</td>\n",
       "      <td>Agra</td>\n",
       "      <td>Agra</td>\n",
       "      <td>Uttar Pradesh</td>\n",
       "      <td>4.0</td>\n",
       "      <td>3.0</td>\n",
       "      <td>2020.0</td>\n",
       "      <td>Hospitalized</td>\n",
       "    </tr>\n",
       "    <tr>\n",
       "      <th>26</th>\n",
       "      <td>1.0</td>\n",
       "      <td>04/03/2020</td>\n",
       "      <td>NaN</td>\n",
       "      <td>NaN</td>\n",
       "      <td>Agra</td>\n",
       "      <td>Agra</td>\n",
       "      <td>Uttar Pradesh</td>\n",
       "      <td>4.0</td>\n",
       "      <td>3.0</td>\n",
       "      <td>2020.0</td>\n",
       "      <td>Hospitalized</td>\n",
       "    </tr>\n",
       "    <tr>\n",
       "      <th>27</th>\n",
       "      <td>1.0</td>\n",
       "      <td>04/03/2020</td>\n",
       "      <td>NaN</td>\n",
       "      <td>NaN</td>\n",
       "      <td>NaN</td>\n",
       "      <td>Agra</td>\n",
       "      <td>Uttar Pradesh</td>\n",
       "      <td>4.0</td>\n",
       "      <td>3.0</td>\n",
       "      <td>2020.0</td>\n",
       "      <td>Hospitalized</td>\n",
       "    </tr>\n",
       "  </tbody>\n",
       "</table>\n",
       "</div>"
      ],
      "text/plain": [
       "    Num Cases Date Announced Age Bracket Gender Detected City  \\\n",
       "18        1.0     04/03/2020          55    NaN      Gurugram   \n",
       "19        1.0     04/03/2020          55    NaN      Gurugram   \n",
       "21        1.0     04/03/2020         NaN      M          Agra   \n",
       "26        1.0     04/03/2020         NaN    NaN          Agra   \n",
       "27        1.0     04/03/2020         NaN    NaN           NaN   \n",
       "\n",
       "   Detected District Detected State  Day  Month    Year Current Status  \n",
       "18          Italians        Haryana  4.0    3.0  2020.0   Hospitalized  \n",
       "19          Italians        Haryana  4.0    3.0  2020.0   Hospitalized  \n",
       "21              Agra  Uttar Pradesh  4.0    3.0  2020.0   Hospitalized  \n",
       "26              Agra  Uttar Pradesh  4.0    3.0  2020.0   Hospitalized  \n",
       "27              Agra  Uttar Pradesh  4.0    3.0  2020.0   Hospitalized  "
      ]
     },
     "execution_count": 13,
     "metadata": {},
     "output_type": "execute_result"
    }
   ],
   "source": [
    "#Total Covid-19 case Hospitalized\n",
    "\n",
    "data[data['Current Status']=='Hospitalized'].head()"
   ]
  },
  {
   "cell_type": "code",
   "execution_count": 14,
   "metadata": {},
   "outputs": [
    {
     "data": {
      "text/plain": [
       "Month\n",
       "3.0       1431.0\n",
       "4.0      33209.0\n",
       "5.0     155781.0\n",
       "6.0     395144.0\n",
       "7.0    1111262.0\n",
       "8.0    1276315.0\n",
       "Name: Num Cases, dtype: float64"
      ]
     },
     "execution_count": 14,
     "metadata": {},
     "output_type": "execute_result"
    }
   ],
   "source": [
    "#Total Active case Month wise Who Hospitalized\n",
    "\n",
    "hs = data[data['Current Status']=='Hospitalized'].groupby('Month')['Num Cases'].sum()\n",
    "hs"
   ]
  },
  {
   "cell_type": "code",
   "execution_count": 15,
   "metadata": {},
   "outputs": [
    {
     "data": {
      "image/png": "[encoded data removed]",
      "text/plain": [
       "<Figure size 432x288 with 1 Axes>"
      ]
     },
     "metadata": {
      "needs_background": "light"
     },
     "output_type": "display_data"
    }
   ],
   "source": [
    "hs.plot.bar()\n",
    "plt.show()"
   ]
  },
  {
   "cell_type": "code",
   "execution_count": 16,
   "metadata": {},
   "outputs": [
    {
     "data": {
      "text/plain": [
       "Month\n",
       "1.0          1.0\n",
       "2.0          2.0\n",
       "3.0        177.0\n",
       "4.0       2573.0\n",
       "5.0      82804.0\n",
       "6.0     255977.0\n",
       "7.0     747706.0\n",
       "8.0    1125254.0\n",
       "Name: Num Cases, dtype: float64"
      ]
     },
     "execution_count": 16,
     "metadata": {},
     "output_type": "execute_result"
    }
   ],
   "source": [
    "#Total Recovered case Month wise Who Recovered\n",
    "\n",
    "rc = data[data['Current Status']=='Recovered'].groupby('Month')['Num Cases'].sum()\n",
    "rc"
   ]
  },
  {
   "cell_type": "code",
   "execution_count": 17,
   "metadata": {},
   "outputs": [
    {
     "data": {
      "image/png": "[encoded data removed]",
      "text/plain": [
       "<Figure size 432x288 with 1 Axes>"
      ]
     },
     "metadata": {
      "needs_background": "light"
     },
     "output_type": "display_data"
    }
   ],
   "source": [
    "rc.plot.bar()\n",
    "plt.show()"
   ]
  },
  {
   "cell_type": "code",
   "execution_count": 18,
   "metadata": {},
   "outputs": [
    {
     "data": {
      "text/plain": [
       "Gender\n",
       "F             39964.0\n",
       "Femal e           1.0\n",
       "M             75316.0\n",
       "M                 1.0\n",
       "M,                1.0\n",
       "Non-Binary       18.0\n",
       "Name: Num Cases, dtype: float64"
      ]
     },
     "execution_count": 18,
     "metadata": {},
     "output_type": "execute_result"
    }
   ],
   "source": [
    "#Total Male And Female Infected with Covid-19\n",
    "data.groupby('Gender')['Num Cases'].sum()"
   ]
  },
  {
   "cell_type": "code",
   "execution_count": 19,
   "metadata": {},
   "outputs": [
    {
     "data": {
      "text/plain": [
       "Age Bracket\n",
       "30.0          1893.0\n",
       "30            1789.0\n",
       "35            1675.0\n",
       "40.0          1664.0\n",
       "40            1623.0\n",
       "35.0          1607.0\n",
       "45            1546.0\n",
       "25            1544.0\n",
       "32.0          1529.0\n",
       "25.0          1526.0\n",
       "45.0          1511.0\n",
       "28.0          1450.0\n",
       "32            1446.0\n",
       "28            1427.0\n",
       "26            1344.0\n",
       "26.0          1344.0\n",
       "55            1335.0\n",
       "50            1327.0\n",
       "27.0          1323.0\n",
       "24.0          1317.0\n",
       "38.0          1293.0\n",
       "24            1277.0\n",
       "29.0          1270.0\n",
       "50.0          1254.0\n",
       "27            1246.0\n",
       "36.0          1212.0\n",
       "38            1194.0\n",
       "60            1167.0\n",
       "23.0          1166.0\n",
       "42.0          1157.0\n",
       "               ...  \n",
       "2 Months         2.0\n",
       "105              1.0\n",
       "5 Months         1.0\n",
       "2.4              1.0\n",
       "0.01             1.0\n",
       "0.04             1.0\n",
       "0.05             1.0\n",
       "29.6             1.0\n",
       "98               1.0\n",
       "0.25             1.0\n",
       "4 Months         1.0\n",
       "0.33             1.0\n",
       "0.4              1.0\n",
       "4.5              1.0\n",
       "99.0             1.0\n",
       "5 months         1.0\n",
       "102              1.0\n",
       "0.8              1.0\n",
       "54.9             1.0\n",
       "6 Months         1.0\n",
       "1 DAY            1.0\n",
       "9.5              1.0\n",
       "16 DAYS          1.0\n",
       "1.5 Months       1.0\n",
       "1.6              1.0\n",
       "9 Month          1.0\n",
       "8 month          1.0\n",
       "100              1.0\n",
       "100.0            1.0\n",
       "9 Months         1.0\n",
       "Name: Num Cases, Length: 242, dtype: float64"
      ]
     },
     "execution_count": 19,
     "metadata": {},
     "output_type": "execute_result"
    }
   ],
   "source": [
    "#Age group according to spread of covid\n",
    "data.groupby('Age Bracket')['Num Cases'].sum().sort_values(ascending = False)"
   ]
  },
  {
   "cell_type": "code",
   "execution_count": 20,
   "metadata": {},
   "outputs": [],
   "source": [
    "mg = data.groupby('Age Bracket')['Num Cases'].sum().sort_values(ascending = False).head(10)"
   ]
  },
  {
   "cell_type": "code",
   "execution_count": 21,
   "metadata": {},
   "outputs": [
    {
     "data": {
      "image/png": "[encoded data removed]",
      "text/plain": [
       "<Figure size 432x288 with 1 Axes>"
      ]
     },
     "metadata": {
      "needs_background": "light"
     },
     "output_type": "display_data"
    }
   ],
   "source": [
    "mg.plot.bar()\n",
    "plt.show()"
   ]
  },
  {
   "cell_type": "code",
   "execution_count": 22,
   "metadata": {},
   "outputs": [
    {
     "data": {
      "text/plain": [
       "Detected State\n",
       "Maharashtra                                 657436.0\n",
       "Tamil Nadu                                  367423.0\n",
       "Andhra Pradesh                              334938.0\n",
       "Karnataka                                   264474.0\n",
       "Uttar Pradesh                               177230.0\n",
       "Delhi                                       158600.0\n",
       "West Bengal                                 132358.0\n",
       "Bihar                                       117670.0\n",
       "Telangana                                    99389.0\n",
       "Assam                                        87909.0\n",
       "Gujarat                                      84461.0\n",
       "Odisha                                       72717.0\n",
       "Rajasthan                                    67950.0\n",
       "Kerala                                       54121.0\n",
       "Haryana                                      52117.0\n",
       "Madhya Pradesh                               50638.0\n",
       "Punjab                                       39325.0\n",
       "Jammu and Kashmir                            31370.0\n",
       "Jharkhand                                    28196.0\n",
       "Chhattisgarh                                 19502.0\n",
       "Uttarakhand                                  14082.0\n",
       "Goa                                          13484.0\n",
       "Puducherry                                    9594.0\n",
       "Tripura                                       8106.0\n",
       "Manipur                                       5048.0\n",
       "Himachal Pradesh                              4726.0\n",
       "Nagaland                                      3619.0\n",
       "Arunachal Pradesh                             3126.0\n",
       "Andaman and Nicobar Islands                   2736.0\n",
       "Chandigarh                                    2631.0\n",
       "Ladakh                                        2133.0\n",
       "Dadra and Nagar Haveli and Daman and Diu      2083.0\n",
       "Meghalaya                                     1718.0\n",
       "Sikkim                                        1336.0\n",
       "Mizoram                                        895.0\n",
       "State Unassigned                                 0.0\n",
       "Name: Num Cases, dtype: float64"
      ]
     },
     "execution_count": 22,
     "metadata": {},
     "output_type": "execute_result"
    }
   ],
   "source": [
    "#State wise\n",
    "hd= data[data['Current Status']=='Hospitalized'].groupby('Detected State')['Num Cases'].sum().sort_values(ascending = False)\n",
    "hd"
   ]
  },
  {
   "cell_type": "code",
   "execution_count": 23,
   "metadata": {},
   "outputs": [
    {
     "data": {
      "image/png": "[encoded data removed]",
      "text/plain": [
       "<Figure size 504x360 with 1 Axes>"
      ]
     },
     "metadata": {
      "needs_background": "light"
     },
     "output_type": "display_data"
    }
   ],
   "source": [
    "hd.head(10).plot.bar(figsize=(7,5))\n",
    "plt.show()"
   ]
  },
  {
   "cell_type": "code",
   "execution_count": 24,
   "metadata": {},
   "outputs": [],
   "source": [
    "#No of cases everyday in each month\n",
    "day = data[data['Current Status']=='Hospitalized'].groupby(['Month','Day'])['Num Cases'].sum()"
   ]
  },
  {
   "cell_type": "code",
   "execution_count": 25,
   "metadata": {},
   "outputs": [
    {
     "data": {
      "image/png": "[encoded data removed]",
      "text/plain": [
       "<Figure size 1080x720 with 6 Axes>"
      ]
     },
     "metadata": {
      "needs_background": "light"
     },
     "output_type": "display_data"
    }
   ],
   "source": [
    "day.unstack(level=0).plot(kind='bar',subplots=True,figsize=(15,10))\n",
    "plt.show()"
   ]
  },
  {
   "cell_type": "code",
   "execution_count": null,
   "metadata": {},
   "outputs": [],
   "source": []
  },
  {
   "cell_type": "code",
   "execution_count": null,
   "metadata": {},
   "outputs": [],
   "source": []
  }
 ],
 "metadata": {
  "kernelspec": {
   "display_name": "Python 3",
   "language": "python",
   "name": "python3"
  },
  "language_info": {
   "codemirror_mode": {
    "name": "ipython",
    "version": 3
   },
   "file_extension": ".py",
   "mimetype": "text/x-python",
   "name": "python",
   "nbconvert_exporter": "python",
   "pygments_lexer": "ipython3",
   "version": "3.7.3"
  }
 },
 "nbformat": 4,
 "nbformat_minor": 4
}
